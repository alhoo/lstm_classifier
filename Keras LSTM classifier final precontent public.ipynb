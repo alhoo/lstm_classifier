{
 "cells": [
  {
   "cell_type": "markdown",
   "metadata": {},
   "source": [
    "Keras LSTM Classifier\n",
    "--\n",
    "This article describes how the Keras LSTM network can be used to classify sentences based on their content. We begin by importing the training and testing datasets and decoding the content to python variables."
   ]
  },
  {
   "cell_type": "code",
   "execution_count": 1,
   "metadata": {},
   "outputs": [
    {
     "name": "stderr",
     "output_type": "stream",
     "text": [
      "Using TensorFlow backend.\n",
      "........\n",
      "10 .........\n",
      "100 .........\n",
      "1000 .........\n",
      "10000 ....\n",
      "Filtering words\n",
      "........\n",
      "10 .........\n",
      "100 .........\n",
      "1000 ....\n",
      "UNK 21160\n"
     ]
    }
   ],
   "source": [
    "\n",
    "(X_train0, y_train), (X_test0, y_test) = super_secret_dataset.load_data(nobelow=3)"
   ]
  },
  {
   "cell_type": "code",
   "execution_count": 2,
   "metadata": {},
   "outputs": [
    {
     "data": {
      "image/png": "[encoded data removed]",
      "text/plain": [
       "<matplotlib.figure.Figure at 0x7f96a6c83748>"
      ]
     },
     "metadata": {},
     "output_type": "display_data"
    },
    {
     "data": {
      "image/png": "[encoded data removed]",
      "text/plain": [
       "<matplotlib.figure.Figure at 0x7f96a6c83400>"
      ]
     },
     "metadata": {},
     "output_type": "display_data"
    },
    {
     "data": {
      "image/png": "[encoded data removed]",
      "text/plain": [
       "<matplotlib.figure.Figure at 0x7f96a6e90be0>"
      ]
     },
     "metadata": {},
     "output_type": "display_data"
    }
   ],
   "source": [
    "import numpy as np\n"
   ]
  },
  {
   "cell_type": "markdown",
   "metadata": {},
   "source": [
    "Using the keras model\n",
    "--\n",
    "We use the keras library similarily to this [tutorial](https://machinelearningmastery.com/sequence-classification-lstm-recurrent-neural-networks-python-keras/). Here we've written a library component to process the data to the same format as the imdb dataset that is included in the keras library."
   ]
  },
  {
   "cell_type": "code",
   "execution_count": 3,
   "metadata": {},
   "outputs": [
    {
     "data": {
      "text/plain": [
       "(27946, 27949)"
      ]
     },
     "execution_count": 3,
     "metadata": {},
     "output_type": "execute_result"
    }
   ],
   "source": [
    "from collections import Counter\n",
    "from itertools import chain\n",
    "#Count our dictionary length\n",
    "wordcount = len(Counter(chain.from_iterable([x[0]+x[1]+x[2] for x in X_train0]))) + 2\n",
    "max(Counter(chain.from_iterable([x[0]+x[1]+x[2] for x in X_train0]))), wordcount"
   ]
  },
  {
   "cell_type": "code",
   "execution_count": 4,
   "metadata": {},
   "outputs": [],
   "source": [
    "from keras.datasets import imdb\n",
    "from keras.models import Sequential\n",
    "from keras.layers import Dense\n",
    "from keras.layers import LSTM\n",
    "from keras.layers import Conv1D\n",
    "from keras.layers import MaxPooling1D\n",
    "from keras.layers.embeddings import Embedding\n",
    "from keras.preprocessing import sequence\n",
    "from keras import backend as K\n",
    "from keras import regularizers\n",
    "from keras_evaluation import precision, recall\n",
    "\n",
    "def get_model(top_words, embedding_vector_length=32, max_review_length=150, lstm=(170,), useconv=1):\n",
    "    # create the model\n",
    "    model = Sequential()\n",
    "    model.add(Embedding(top_words, embedding_vector_length, input_length=max_review_length))\n",
    "    if useconv:\n",
    "        model.add(Conv1D(filters=embedding_vector_length, kernel_size=3, padding='same', activation='relu'))\n",
    "        model.add(MaxPooling1D(pool_size=2))\n",
    "    for i in lstm[:-1]:\n",
    "        model.add(LSTM(i, return_sequences=True, dropout=0.2, recurrent_dropout=0.2))\n",
    "    model.add(LSTM(lstm[-1], dropout=0.2, recurrent_dropout=0.2))\n",
    "    model.add(Dense(1, activation='sigmoid',\n",
    "                    kernel_regularizer=regularizers.l2(0.001),\n",
    "                    activity_regularizer=regularizers.l1(0.001)))\n",
    "    model.compile(loss='binary_crossentropy',\n",
    "                  optimizer='adam',\n",
    "                  metrics=['accuracy'])\n",
    "    #print(model.summary())\n",
    "    return model"
   ]
  },
  {
   "cell_type": "code",
   "execution_count": 6,
   "metadata": {},
   "outputs": [],
   "source": [
    "max_review_length=700"
   ]
  },
  {
   "cell_type": "code",
   "execution_count": 7,
   "metadata": {},
   "outputs": [],
   "source": [
    "def concat2(X_train, limit=100):\n",
    "    padding1 = wordcount - 1\n",
    "    padding2 = wordcount - 2\n",
    "    for x in X_train:\n",
    "        yield x[0][:limit] + [padding1] + x[1][:limit] + [padding2] + x[2]\n",
    "\n",
    "X_train = sequence.pad_sequences(list(concat2(X_train0, 200)),\n",
    "                                 maxlen=max_review_length,\n",
    "                                 truncating='post')\n",
    "X_test = sequence.pad_sequences(list(concat2(X_test0, 200)),\n",
    "                                maxlen=max_review_length,\n",
    "                                truncating='post')"
   ]
  },
  {
   "cell_type": "code",
   "execution_count": 8,
   "metadata": {},
   "outputs": [],
   "source": [
    "from keras.models import load_model\n",
    "def save_model(model, modelpath):\n",
    "    model.save(modelpath)\n",
    "    \n",
    "def model_deep_copy(model):\n",
    "    modelpath = \"/tmp/model.h5\"\n",
    "    save_model(model, modelpath)\n",
    "    return load_model(modelpath)"
   ]
  },
  {
   "cell_type": "code",
   "execution_count": null,
   "metadata": {},
   "outputs": [],
   "source": [
    "from matplotlib.animation import FuncAnimation\n",
    "import keras_evaluation\n",
    "import sys\n",
    "evaluate_model = keras_evaluation.evaluate_model\n",
    "roc_auc = keras_evaluation.roc_auc\n",
    "\n",
    "import seaborn\n",
    "import itertools\n",
    "from matplotlib import rc\n",
    "from matplotlib import pyplot as plt\n",
    "rc('animation', html='html5')\n",
    "\n",
    "lstm_layers = (160,80,2)\n",
    "\n",
    "model = get_model(wordcount, max_review_length=max_review_length, lstm=lstm_layers, useconv=0)\n",
    "modelb = model_deep_copy(model)\n",
    "\n",
    "besti = 0\n",
    "#aucroc = evaluate_model(model, X_test, y_test)\n",
    "aucroc, fpr, tpr = roc_auc(modelb, X_test, y_test)\n",
    "#aucroc = 0.5\n",
    "\n",
    "X_train_c = itertools.cycle(X_train)\n",
    "y_train_c = itertools.cycle(y_train)\n",
    "\n",
    "fig, ax = plt.subplots()\n",
    "xdata, ydata = fpr, tpr\n",
    "ln, = plt.plot(xdata, ydata, animated=True)\n",
    "aucrocs = []\n",
    "\n",
    "def update(i):\n",
    "    modelb.fit(np.array(list(itertools.islice(X_train_c, 1024))),\n",
    "               np.array(list(itertools.islice(y_train_c, 1024))),\n",
    "               epochs=1, batch_size=64, verbose=0)\n",
    "    aucrocb, fpr, tpr = roc_auc(modelb, X_test, y_test)\n",
    "    xdata, ydata = fpr, tpr\n",
    "    ln.set_data(xdata, ydata)\n",
    "    aucrocs.append(aucrocb)\n",
    "    sys.stderr.write(\".\")\n",
    "    #if aucrocb > aucroc:\n",
    "    #    sys.stderr.write(\"\\nB is better!\\n\")\n",
    "    #    model = model_deep_copy(modelb)\n",
    "    #    aucroc = aucrocb\n",
    "    #    besti = (1 + i)*1000\n",
    "    return ln,\n",
    "        \n",
    "\n",
    "anim = FuncAnimation(fig, update, frames=np.arange(0, 100), interval=100)\n",
    "anim\n"
   ]
  },
  {
   "cell_type": "code",
   "execution_count": 18,
   "metadata": {},
   "outputs": [
    {
     "data": {
      "image/png": "[encoded data removed]",
      "text/plain": [
       "<matplotlib.figure.Figure at 0x7f9699a3a278>"
      ]
     },
     "metadata": {},
     "output_type": "display_data"
    },
    {
     "data": {
      "image/png": "[encoded data removed]",
      "text/plain": [
       "<matplotlib.figure.Figure at 0x7f96a70d7eb8>"
      ]
     },
     "metadata": {},
     "output_type": "display_data"
    },
    {
     "name": "stderr",
     "output_type": "stream",
     "text": [
      "."
     ]
    },
    {
     "data": {
      "image/png": "[encoded data removed]",
      "text/plain": [
       "<matplotlib.figure.Figure at 0x7f969891bc50>"
      ]
     },
     "metadata": {},
     "output_type": "display_data"
    }
   ],
   "source": [
    "from matplotlib import pyplot as plt\n",
    "plt.plot(np.arange(0, len(aucrocs)*1024, 1024), np.array(aucrocs))\n",
    "plt.show()"
   ]
  },
  {
   "cell_type": "code",
   "execution_count": null,
   "metadata": {},
   "outputs": [],
   "source": [
    "max_review_length=700\n",
    "model = get_model(wordcount, max_review_length=max_review_length, lstm=lstm_layers, useconv=1)\n",
    "besti = 0\n",
    "#aucroc = evaluate_model(model, X_test, y_test)\n",
    "aucroc, fpr, tpr = evaluate_model(modelb, X_test, y_test)\n",
    "#aucroc = 0.5\n",
    "\n",
    "X_train_c = itertools.cycle(X_train)\n",
    "y_train_c = itertools.cycle(y_train)\n",
    "\n",
    "fig, ax = plt.subplots()\n",
    "xdata, ydata = fpr, tpr\n",
    "ln, = plt.plot(xdata, ydata, animated=True)\n",
    "aucrocs = []\n",
    "\n",
    "def update(i):\n",
    "    modelb.fit(np.array(list(itertools.islice(X_train_c, 1024))),\n",
    "               np.array(list(itertools.islice(y_train_c, 1024))), epochs=1, batch_size=64)\n",
    "    aucrocb, fpr, tpr = evaluate_model(modelb, X_test, y_test)\n",
    "    xdata, ydata = fpr, tpr\n",
    "    ln.set_data(xdata, ydata)\n",
    "    aucrocs.append(aucrocb)\n",
    "    #if aucrocb > aucroc:\n",
    "    #    print(\"B is better!\")\n",
    "    #    model = model_deep_copy(modelb)\n",
    "    #    aucroc = aucrocb\n",
    "    #    besti = (1 + i)*1000\n",
    "    return ln,\n",
    "        \n",
    "\n",
    "anim2 = FuncAnimation(fig, update, frames=np.arange(0, 100), interval=100)\n",
    "anim2\n"
   ]
  },
  {
   "cell_type": "code",
   "execution_count": null,
   "metadata": {},
   "outputs": [],
   "source": []
  }
 ],
 "metadata": {
  "kernelspec": {
   "display_name": "Python 3",
   "language": "python",
   "name": "python3"
  },
  "language_info": {
   "codemirror_mode": {
    "name": "ipython",
    "version": 3
   },
   "file_extension": ".py",
   "mimetype": "text/x-python",
   "name": "python",
   "nbconvert_exporter": "python",
   "pygments_lexer": "ipython3",
   "version": "3.5.2"
  }
 },
 "nbformat": 4,
 "nbformat_minor": 2
}
